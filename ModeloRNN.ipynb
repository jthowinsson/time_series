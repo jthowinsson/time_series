{
  "cells": [
    {
      "cell_type": "markdown",
      "metadata": {
        "id": "view-in-github",
        "colab_type": "text"
      },
      "source": [
        "<a href=\"https://colab.research.google.com/github/jthowinsson/time_series/blob/main/ModeloRNN.ipynb\" target=\"_parent\"><img src=\"https://colab.research.google.com/assets/colab-badge.svg\" alt=\"Open In Colab\"/></a>"
      ]
    },
    {
      "cell_type": "code",
      "execution_count": null,
      "metadata": {
        "id": "nWoinRCymqxY",
        "outputId": "8717566e-22cb-4058-9c7b-97791b36fb8b",
        "colab": {
          "base_uri": "https://localhost:8080/"
        }
      },
      "outputs": [
        {
          "output_type": "stream",
          "name": "stdout",
          "text": [
            "Requirement already satisfied: arch in /usr/local/lib/python3.11/dist-packages (7.2.0)\n",
            "Requirement already satisfied: numpy>=1.22.3 in /usr/local/lib/python3.11/dist-packages (from arch) (1.26.4)\n",
            "Requirement already satisfied: scipy>=1.8 in /usr/local/lib/python3.11/dist-packages (from arch) (1.13.1)\n",
            "Requirement already satisfied: pandas>=1.4 in /usr/local/lib/python3.11/dist-packages (from arch) (2.2.2)\n",
            "Requirement already satisfied: statsmodels>=0.12 in /usr/local/lib/python3.11/dist-packages (from arch) (0.14.4)\n",
            "Requirement already satisfied: python-dateutil>=2.8.2 in /usr/local/lib/python3.11/dist-packages (from pandas>=1.4->arch) (2.8.2)\n",
            "Requirement already satisfied: pytz>=2020.1 in /usr/local/lib/python3.11/dist-packages (from pandas>=1.4->arch) (2025.1)\n",
            "Requirement already satisfied: tzdata>=2022.7 in /usr/local/lib/python3.11/dist-packages (from pandas>=1.4->arch) (2025.1)\n",
            "Requirement already satisfied: patsy>=0.5.6 in /usr/local/lib/python3.11/dist-packages (from statsmodels>=0.12->arch) (1.0.1)\n",
            "Requirement already satisfied: packaging>=21.3 in /usr/local/lib/python3.11/dist-packages (from statsmodels>=0.12->arch) (24.2)\n",
            "Requirement already satisfied: six>=1.5 in /usr/local/lib/python3.11/dist-packages (from python-dateutil>=2.8.2->pandas>=1.4->arch) (1.17.0)\n"
          ]
        }
      ],
      "source": [
        "pip install arch\n"
      ]
    },
    {
      "cell_type": "code",
      "execution_count": null,
      "metadata": {
        "id": "YWMmrbP0mqxZ",
        "outputId": "4348c14d-1739-4f75-bed0-a07df65f0c49",
        "colab": {
          "base_uri": "https://localhost:8080/"
        }
      },
      "outputs": [
        {
          "output_type": "stream",
          "name": "stdout",
          "text": [
            "Requirement already satisfied: openpyxl in /usr/local/lib/python3.11/dist-packages (3.1.5)\n",
            "Requirement already satisfied: et-xmlfile in /usr/local/lib/python3.11/dist-packages (from openpyxl) (2.0.0)\n"
          ]
        }
      ],
      "source": [
        "pip install openpyxl"
      ]
    },
    {
      "cell_type": "code",
      "execution_count": null,
      "metadata": {
        "id": "QlR_O-DumqxZ",
        "outputId": "8f16ebe5-441b-443b-f300-5e9a0bd1c08d",
        "colab": {
          "base_uri": "https://localhost:8080/"
        }
      },
      "outputs": [
        {
          "output_type": "stream",
          "name": "stdout",
          "text": [
            "Requirement already satisfied: dask in /usr/local/lib/python3.11/dist-packages (2024.11.2)\n",
            "Requirement already satisfied: click>=8.1 in /usr/local/lib/python3.11/dist-packages (from dask) (8.1.8)\n",
            "Requirement already satisfied: cloudpickle>=3.0.0 in /usr/local/lib/python3.11/dist-packages (from dask) (3.1.1)\n",
            "Requirement already satisfied: fsspec>=2021.09.0 in /usr/local/lib/python3.11/dist-packages (from dask) (2024.10.0)\n",
            "Requirement already satisfied: packaging>=20.0 in /usr/local/lib/python3.11/dist-packages (from dask) (24.2)\n",
            "Requirement already satisfied: partd>=1.4.0 in /usr/local/lib/python3.11/dist-packages (from dask) (1.4.2)\n",
            "Requirement already satisfied: pyyaml>=5.3.1 in /usr/local/lib/python3.11/dist-packages (from dask) (6.0.2)\n",
            "Requirement already satisfied: toolz>=0.10.0 in /usr/local/lib/python3.11/dist-packages (from dask) (0.12.1)\n",
            "Requirement already satisfied: importlib-metadata>=4.13.0 in /usr/local/lib/python3.11/dist-packages (from dask) (8.6.1)\n",
            "Requirement already satisfied: zipp>=3.20 in /usr/local/lib/python3.11/dist-packages (from importlib-metadata>=4.13.0->dask) (3.21.0)\n",
            "Requirement already satisfied: locket in /usr/local/lib/python3.11/dist-packages (from partd>=1.4.0->dask) (1.0.0)\n"
          ]
        }
      ],
      "source": [
        " pip install dask"
      ]
    },
    {
      "cell_type": "code",
      "execution_count": null,
      "metadata": {
        "id": "w845zFH9mqxa",
        "outputId": "b05a9f01-5068-4a85-8bfa-af353c7e73aa",
        "colab": {
          "base_uri": "https://localhost:8080/"
        }
      },
      "outputs": [
        {
          "output_type": "stream",
          "name": "stdout",
          "text": [
            "Requirement already satisfied: statsmodels in /usr/local/lib/python3.11/dist-packages (0.14.4)\n",
            "Requirement already satisfied: numpy<3,>=1.22.3 in /usr/local/lib/python3.11/dist-packages (from statsmodels) (1.26.4)\n",
            "Requirement already satisfied: scipy!=1.9.2,>=1.8 in /usr/local/lib/python3.11/dist-packages (from statsmodels) (1.13.1)\n",
            "Requirement already satisfied: pandas!=2.1.0,>=1.4 in /usr/local/lib/python3.11/dist-packages (from statsmodels) (2.2.2)\n",
            "Requirement already satisfied: patsy>=0.5.6 in /usr/local/lib/python3.11/dist-packages (from statsmodels) (1.0.1)\n",
            "Requirement already satisfied: packaging>=21.3 in /usr/local/lib/python3.11/dist-packages (from statsmodels) (24.2)\n",
            "Requirement already satisfied: python-dateutil>=2.8.2 in /usr/local/lib/python3.11/dist-packages (from pandas!=2.1.0,>=1.4->statsmodels) (2.8.2)\n",
            "Requirement already satisfied: pytz>=2020.1 in /usr/local/lib/python3.11/dist-packages (from pandas!=2.1.0,>=1.4->statsmodels) (2025.1)\n",
            "Requirement already satisfied: tzdata>=2022.7 in /usr/local/lib/python3.11/dist-packages (from pandas!=2.1.0,>=1.4->statsmodels) (2025.1)\n",
            "Requirement already satisfied: six>=1.5 in /usr/local/lib/python3.11/dist-packages (from python-dateutil>=2.8.2->pandas!=2.1.0,>=1.4->statsmodels) (1.17.0)\n"
          ]
        }
      ],
      "source": [
        "pip install statsmodels"
      ]
    },
    {
      "cell_type": "code",
      "execution_count": null,
      "metadata": {
        "id": "hozn1ZIbmqxa"
      },
      "outputs": [],
      "source": [
        "import pandas as pd\n",
        "import numpy as np\n",
        "from matplotlib import pyplot as plt\n",
        "import seaborn as sns\n",
        "from statsmodels.tsa.seasonal import seasonal_decompose\n",
        "from statsmodels.graphics.tsaplots import plot_acf\n",
        "from statsmodels.graphics.tsaplots import plot_pacf\n",
        "from statsmodels.tsa.stattools import adfuller\n",
        "from statsmodels.tsa.stattools import kpss\n",
        "from scipy import stats\n",
        "\n"
      ]
    },
    {
      "cell_type": "code",
      "execution_count": null,
      "metadata": {
        "colab": {
          "base_uri": "https://localhost:8080/",
          "height": 73
        },
        "id": "wXvuUzSHnOeZ",
        "outputId": "61399e60-2708-4536-c8fe-64ed48fe80b7"
      },
      "outputs": [
        {
          "output_type": "display_data",
          "data": {
            "text/plain": [
              "<IPython.core.display.HTML object>"
            ],
            "text/html": [
              "\n",
              "     <input type=\"file\" id=\"files-e4fa0eb2-748e-4336-89dd-2cbb42398c58\" name=\"files[]\" multiple disabled\n",
              "        style=\"border:none\" />\n",
              "     <output id=\"result-e4fa0eb2-748e-4336-89dd-2cbb42398c58\">\n",
              "      Upload widget is only available when the cell has been executed in the\n",
              "      current browser session. Please rerun this cell to enable.\n",
              "      </output>\n",
              "      <script>// Copyright 2017 Google LLC\n",
              "//\n",
              "// Licensed under the Apache License, Version 2.0 (the \"License\");\n",
              "// you may not use this file except in compliance with the License.\n",
              "// You may obtain a copy of the License at\n",
              "//\n",
              "//      http://www.apache.org/licenses/LICENSE-2.0\n",
              "//\n",
              "// Unless required by applicable law or agreed to in writing, software\n",
              "// distributed under the License is distributed on an \"AS IS\" BASIS,\n",
              "// WITHOUT WARRANTIES OR CONDITIONS OF ANY KIND, either express or implied.\n",
              "// See the License for the specific language governing permissions and\n",
              "// limitations under the License.\n",
              "\n",
              "/**\n",
              " * @fileoverview Helpers for google.colab Python module.\n",
              " */\n",
              "(function(scope) {\n",
              "function span(text, styleAttributes = {}) {\n",
              "  const element = document.createElement('span');\n",
              "  element.textContent = text;\n",
              "  for (const key of Object.keys(styleAttributes)) {\n",
              "    element.style[key] = styleAttributes[key];\n",
              "  }\n",
              "  return element;\n",
              "}\n",
              "\n",
              "// Max number of bytes which will be uploaded at a time.\n",
              "const MAX_PAYLOAD_SIZE = 100 * 1024;\n",
              "\n",
              "function _uploadFiles(inputId, outputId) {\n",
              "  const steps = uploadFilesStep(inputId, outputId);\n",
              "  const outputElement = document.getElementById(outputId);\n",
              "  // Cache steps on the outputElement to make it available for the next call\n",
              "  // to uploadFilesContinue from Python.\n",
              "  outputElement.steps = steps;\n",
              "\n",
              "  return _uploadFilesContinue(outputId);\n",
              "}\n",
              "\n",
              "// This is roughly an async generator (not supported in the browser yet),\n",
              "// where there are multiple asynchronous steps and the Python side is going\n",
              "// to poll for completion of each step.\n",
              "// This uses a Promise to block the python side on completion of each step,\n",
              "// then passes the result of the previous step as the input to the next step.\n",
              "function _uploadFilesContinue(outputId) {\n",
              "  const outputElement = document.getElementById(outputId);\n",
              "  const steps = outputElement.steps;\n",
              "\n",
              "  const next = steps.next(outputElement.lastPromiseValue);\n",
              "  return Promise.resolve(next.value.promise).then((value) => {\n",
              "    // Cache the last promise value to make it available to the next\n",
              "    // step of the generator.\n",
              "    outputElement.lastPromiseValue = value;\n",
              "    return next.value.response;\n",
              "  });\n",
              "}\n",
              "\n",
              "/**\n",
              " * Generator function which is called between each async step of the upload\n",
              " * process.\n",
              " * @param {string} inputId Element ID of the input file picker element.\n",
              " * @param {string} outputId Element ID of the output display.\n",
              " * @return {!Iterable<!Object>} Iterable of next steps.\n",
              " */\n",
              "function* uploadFilesStep(inputId, outputId) {\n",
              "  const inputElement = document.getElementById(inputId);\n",
              "  inputElement.disabled = false;\n",
              "\n",
              "  const outputElement = document.getElementById(outputId);\n",
              "  outputElement.innerHTML = '';\n",
              "\n",
              "  const pickedPromise = new Promise((resolve) => {\n",
              "    inputElement.addEventListener('change', (e) => {\n",
              "      resolve(e.target.files);\n",
              "    });\n",
              "  });\n",
              "\n",
              "  const cancel = document.createElement('button');\n",
              "  inputElement.parentElement.appendChild(cancel);\n",
              "  cancel.textContent = 'Cancel upload';\n",
              "  const cancelPromise = new Promise((resolve) => {\n",
              "    cancel.onclick = () => {\n",
              "      resolve(null);\n",
              "    };\n",
              "  });\n",
              "\n",
              "  // Wait for the user to pick the files.\n",
              "  const files = yield {\n",
              "    promise: Promise.race([pickedPromise, cancelPromise]),\n",
              "    response: {\n",
              "      action: 'starting',\n",
              "    }\n",
              "  };\n",
              "\n",
              "  cancel.remove();\n",
              "\n",
              "  // Disable the input element since further picks are not allowed.\n",
              "  inputElement.disabled = true;\n",
              "\n",
              "  if (!files) {\n",
              "    return {\n",
              "      response: {\n",
              "        action: 'complete',\n",
              "      }\n",
              "    };\n",
              "  }\n",
              "\n",
              "  for (const file of files) {\n",
              "    const li = document.createElement('li');\n",
              "    li.append(span(file.name, {fontWeight: 'bold'}));\n",
              "    li.append(span(\n",
              "        `(${file.type || 'n/a'}) - ${file.size} bytes, ` +\n",
              "        `last modified: ${\n",
              "            file.lastModifiedDate ? file.lastModifiedDate.toLocaleDateString() :\n",
              "                                    'n/a'} - `));\n",
              "    const percent = span('0% done');\n",
              "    li.appendChild(percent);\n",
              "\n",
              "    outputElement.appendChild(li);\n",
              "\n",
              "    const fileDataPromise = new Promise((resolve) => {\n",
              "      const reader = new FileReader();\n",
              "      reader.onload = (e) => {\n",
              "        resolve(e.target.result);\n",
              "      };\n",
              "      reader.readAsArrayBuffer(file);\n",
              "    });\n",
              "    // Wait for the data to be ready.\n",
              "    let fileData = yield {\n",
              "      promise: fileDataPromise,\n",
              "      response: {\n",
              "        action: 'continue',\n",
              "      }\n",
              "    };\n",
              "\n",
              "    // Use a chunked sending to avoid message size limits. See b/62115660.\n",
              "    let position = 0;\n",
              "    do {\n",
              "      const length = Math.min(fileData.byteLength - position, MAX_PAYLOAD_SIZE);\n",
              "      const chunk = new Uint8Array(fileData, position, length);\n",
              "      position += length;\n",
              "\n",
              "      const base64 = btoa(String.fromCharCode.apply(null, chunk));\n",
              "      yield {\n",
              "        response: {\n",
              "          action: 'append',\n",
              "          file: file.name,\n",
              "          data: base64,\n",
              "        },\n",
              "      };\n",
              "\n",
              "      let percentDone = fileData.byteLength === 0 ?\n",
              "          100 :\n",
              "          Math.round((position / fileData.byteLength) * 100);\n",
              "      percent.textContent = `${percentDone}% done`;\n",
              "\n",
              "    } while (position < fileData.byteLength);\n",
              "  }\n",
              "\n",
              "  // All done.\n",
              "  yield {\n",
              "    response: {\n",
              "      action: 'complete',\n",
              "    }\n",
              "  };\n",
              "}\n",
              "\n",
              "scope.google = scope.google || {};\n",
              "scope.google.colab = scope.google.colab || {};\n",
              "scope.google.colab._files = {\n",
              "  _uploadFiles,\n",
              "  _uploadFilesContinue,\n",
              "};\n",
              "})(self);\n",
              "</script> "
            ]
          },
          "metadata": {}
        },
        {
          "output_type": "stream",
          "name": "stdout",
          "text": [
            "Saving dataset2.xlsx to dataset2 (3).xlsx\n"
          ]
        }
      ],
      "source": [
        "from google.colab import files\n",
        "uploaded = files.upload()\n"
      ]
    },
    {
      "cell_type": "code",
      "execution_count": null,
      "metadata": {
        "id": "GC3fVG_amqxa"
      },
      "outputs": [],
      "source": [
        "import pandas as pd\n",
        "\n",
        "# Leer el archivo de Excel\n",
        "data = pd.read_excel('dataset2.xlsx')\n"
      ]
    },
    {
      "cell_type": "code",
      "execution_count": null,
      "metadata": {
        "colab": {
          "base_uri": "https://localhost:8080/"
        },
        "id": "6QgnC5qyon2P",
        "outputId": "f4d286f7-cdeb-4534-8dfd-21f233cdaf66"
      },
      "outputs": [
        {
          "output_type": "stream",
          "name": "stdout",
          "text": [
            "        Invoice StockCode                          Description  Quantity  \\\n",
            "0        489434     85048  15CM CHRISTMAS GLASS BALL 20 LIGHTS        12   \n",
            "1        489434    79323P                   PINK CHERRY LIGHTS        12   \n",
            "2        489434    79323W                  WHITE CHERRY LIGHTS        12   \n",
            "3        489434     22041         RECORD FRAME 7\" SINGLE SIZE         48   \n",
            "4        489434     21232       STRAWBERRY CERAMIC TRINKET BOX        24   \n",
            "...         ...       ...                                  ...       ...   \n",
            "1067366  581587     22899         CHILDREN'S APRON DOLLY GIRL          6   \n",
            "1067367  581587     23254        CHILDRENS CUTLERY DOLLY GIRL          4   \n",
            "1067368  581587     23255      CHILDRENS CUTLERY CIRCUS PARADE         4   \n",
            "1067369  581587     22138        BAKING SET 9 PIECE RETROSPOT          3   \n",
            "1067370  581587      POST                              POSTAGE         1   \n",
            "\n",
            "                InvoiceDate  Price  Customer ID         Country  \n",
            "0       2009-12-01 07:45:00   6.95      13085.0  United Kingdom  \n",
            "1       2009-12-01 07:45:00   6.75      13085.0  United Kingdom  \n",
            "2       2009-12-01 07:45:00   6.75      13085.0  United Kingdom  \n",
            "3       2009-12-01 07:45:00   2.10      13085.0  United Kingdom  \n",
            "4       2009-12-01 07:45:00   1.25      13085.0  United Kingdom  \n",
            "...                     ...    ...          ...             ...  \n",
            "1067366 2011-12-09 12:50:00   2.10      12680.0          France  \n",
            "1067367 2011-12-09 12:50:00   4.15      12680.0          France  \n",
            "1067368 2011-12-09 12:50:00   4.15      12680.0          France  \n",
            "1067369 2011-12-09 12:50:00   4.95      12680.0          France  \n",
            "1067370 2011-12-09 12:50:00  18.00      12680.0          France  \n",
            "\n",
            "[1067371 rows x 8 columns]\n"
          ]
        }
      ],
      "source": [
        "import pandas as pd\n",
        "\n",
        "# Leer todas las hojas de Excel y almacenarlas en un diccionario\n",
        "dataset2 = pd.read_excel('dataset2.xlsx', sheet_name=None)\n",
        "\n",
        "# Concatenar todas las hojas en un solo DataFrame\n",
        "df_completo = pd.concat(dataset2.values(), ignore_index=True)\n",
        "\n",
        "# Ver el DataFrame completo\n",
        "print(df_completo)\n"
      ]
    },
    {
      "cell_type": "code",
      "execution_count": null,
      "metadata": {
        "colab": {
          "base_uri": "https://localhost:8080/"
        },
        "id": "JyyrFQEQmqxa",
        "outputId": "9efda49f-846d-4789-a2f5-a1cd6263f99a"
      },
      "outputs": [
        {
          "output_type": "stream",
          "name": "stdout",
          "text": [
            "El DataFrame tiene 1067371 filas y 8 columnas.\n",
            "El DataFrame contiene un total de 8538968 datos (celdas).\n",
            "Hay 0 valores negativos en la columna 'Quantity'.\n"
          ]
        }
      ],
      "source": [
        "# Número de filas y columnas\n",
        "filas, columnas = df_completo.shape\n",
        "print(f\"El DataFrame tiene {filas} filas y {columnas} columnas.\")\n",
        "\n",
        "# Número total de datos (celdas)\n",
        "total_datos = df_completo.size\n",
        "print(f\"El DataFrame contiene un total de {total_datos} datos (celdas).\")\n",
        "data = df_completo\n",
        "# Concatenar los datasets en un único DataFrame (ajusta esta parte si df_completo ya está definido)\n",
        "df_completo = pd.concat(dataset2.values(), ignore_index=True)\n",
        "\n",
        "# Asegurar que la columna 'InvoiceDate' sea de tipo datetime\n",
        "df_completo['InvoiceDate'] = pd.to_datetime(df_completo['InvoiceDate'])\n",
        "\n",
        "# Filtrar valores negativos en la columna 'Quantity'\n",
        "df_completo = df_completo[df_completo['Quantity'] >= 0]\n",
        "\n",
        "# Ordenar los datos por fecha para una mejor visualización\n",
        "df_completo = df_completo.sort_values(by='InvoiceDate')\n",
        "# Contar valores negativos en la columna 'Quantity'\n",
        "cantidad_negativos = (df_completo['Quantity'] < 0).sum()\n",
        "\n",
        "print(f\"Hay {cantidad_negativos} valores negativos en la columna 'Quantity'.\")\n"
      ]
    },
    {
      "cell_type": "code",
      "execution_count": null,
      "metadata": {
        "colab": {
          "base_uri": "https://localhost:8080/"
        },
        "id": "5qSLh3Gcmqxb",
        "outputId": "02487371-4348-4809-aa50-2169cfc4ba1a"
      },
      "outputs": [
        {
          "output_type": "stream",
          "name": "stdout",
          "text": [
            "Requirement already satisfied: ace_tools in /usr/local/lib/python3.11/dist-packages (0.0)\n"
          ]
        }
      ],
      "source": [
        "pip install ace_tools"
      ]
    },
    {
      "cell_type": "code",
      "execution_count": null,
      "metadata": {
        "colab": {
          "base_uri": "https://localhost:8080/"
        },
        "id": "5z-TkBe_mqxb",
        "outputId": "98f69a68-2a09-48e8-8bd9-81bd41bf9d33"
      },
      "outputs": [
        {
          "output_type": "stream",
          "name": "stdout",
          "text": [
            "\u001b[31mERROR: XMLRPC request failed [code: -32500]\n",
            "RuntimeError: PyPI no longer supports 'pip search' (or XML-RPC search). Please use https://pypi.org/search (via a browser) instead. See https://warehouse.pypa.io/api-reference/xml-rpc.html#deprecated-methods for more information.\u001b[0m\u001b[31m\n",
            "\u001b[0m"
          ]
        }
      ],
      "source": [
        "pip search ace_tools"
      ]
    },
    {
      "cell_type": "code",
      "execution_count": null,
      "metadata": {
        "colab": {
          "base_uri": "https://localhost:8080/"
        },
        "id": "-72ojF7Dmqxb",
        "outputId": "76a2678f-1908-4ea9-9900-f8ae1e5258e9"
      },
      "outputs": [
        {
          "output_type": "stream",
          "name": "stdout",
          "text": [
            "Collecting git+https://github.com/usuario/ace_tools.git\n",
            "  Cloning https://github.com/usuario/ace_tools.git to /tmp/pip-req-build-5i7t5v5t\n",
            "  Running command git clone --filter=blob:none --quiet https://github.com/usuario/ace_tools.git /tmp/pip-req-build-5i7t5v5t\n",
            "  fatal: could not read Username for 'https://github.com': No such device or address\n",
            "  \u001b[1;31merror\u001b[0m: \u001b[1msubprocess-exited-with-error\u001b[0m\n",
            "  \n",
            "  \u001b[31m×\u001b[0m \u001b[32mgit clone --\u001b[0m\u001b[32mfilter\u001b[0m\u001b[32m=\u001b[0m\u001b[32mblob\u001b[0m\u001b[32m:none --quiet \u001b[0m\u001b[4;32mhttps://github.com/usuario/ace_tools.git\u001b[0m\u001b[32m \u001b[0m\u001b[32m/tmp/\u001b[0m\u001b[32mpip-req-build-5i7t5v5t\u001b[0m did not run successfully.\n",
            "  \u001b[31m│\u001b[0m exit code: \u001b[1;36m128\u001b[0m\n",
            "  \u001b[31m╰─>\u001b[0m See above for output.\n",
            "  \n",
            "  \u001b[1;35mnote\u001b[0m: This error originates from a subprocess, and is likely not a problem with pip.\n",
            "\u001b[1;31merror\u001b[0m: \u001b[1msubprocess-exited-with-error\u001b[0m\n",
            "\n",
            "\u001b[31m×\u001b[0m \u001b[32mgit clone --\u001b[0m\u001b[32mfilter\u001b[0m\u001b[32m=\u001b[0m\u001b[32mblob\u001b[0m\u001b[32m:none --quiet \u001b[0m\u001b[4;32mhttps://github.com/usuario/ace_tools.git\u001b[0m\u001b[32m \u001b[0m\u001b[32m/tmp/\u001b[0m\u001b[32mpip-req-build-5i7t5v5t\u001b[0m did not run successfully.\n",
            "\u001b[31m│\u001b[0m exit code: \u001b[1;36m128\u001b[0m\n",
            "\u001b[31m╰─>\u001b[0m See above for output.\n",
            "\n",
            "\u001b[1;35mnote\u001b[0m: This error originates from a subprocess, and is likely not a problem with pip.\n"
          ]
        }
      ],
      "source": [
        "pip install git+https://github.com/usuario/ace_tools.git"
      ]
    },
    {
      "cell_type": "code",
      "execution_count": null,
      "metadata": {
        "colab": {
          "base_uri": "https://localhost:8080/"
        },
        "id": "WWqEydejmqxc",
        "outputId": "c76533cd-e335-4202-b92c-c9524c584ed2"
      },
      "outputs": [
        {
          "output_type": "stream",
          "name": "stdout",
          "text": [
            "        Invoice StockCode                     Description  Quantity  \\\n",
            "587080   541431     23166  MEDIUM CERAMIC TOP STORAGE JAR     74215   \n",
            "1065882  581483     23843     PAPER CRAFT , LITTLE BIRDIE     80995   \n",
            "\n",
            "                InvoiceDate  Price  Customer ID         Country  \n",
            "587080  2011-01-18 10:01:00   1.04      12346.0  United Kingdom  \n",
            "1065882 2011-12-09 09:15:00   2.08      16446.0  United Kingdom  \n",
            "Empty DataFrame\n",
            "Columns: [Invoice, StockCode, Description, Quantity, InvoiceDate, Price, Customer ID, Country]\n",
            "Index: []\n",
            "Filas originales: 1044421\n",
            "Filas después de filtrar: 1044419\n",
            "Index(['Invoice', 'StockCode', 'Description', 'Quantity', 'InvoiceDate',\n",
            "       'Price', 'Customer ID', 'Country'],\n",
            "      dtype='object')\n",
            "0   2009-12-01 07:45:00\n",
            "1   2009-12-01 07:45:00\n",
            "2   2009-12-01 07:45:00\n",
            "3   2009-12-01 07:45:00\n",
            "4   2009-12-01 07:45:00\n",
            "Name: DATE_TIME, dtype: datetime64[ns]\n",
            "Cantidad de valores nulos en DATE_TIME: 0\n",
            "DatetimeIndex(['2009-12-01 07:45:00', '2009-12-01 07:45:00',\n",
            "               '2009-12-01 07:45:00', '2009-12-01 07:45:00',\n",
            "               '2009-12-01 07:45:00', '2009-12-01 07:45:00',\n",
            "               '2009-12-01 07:45:00', '2009-12-01 07:45:00',\n",
            "               '2009-12-01 07:46:00', '2009-12-01 07:46:00',\n",
            "               ...\n",
            "               '2011-12-09 12:50:00', '2011-12-09 12:50:00',\n",
            "               '2011-12-09 12:50:00', '2011-12-09 12:50:00',\n",
            "               '2011-12-09 12:50:00', '2011-12-09 12:50:00',\n",
            "               '2011-12-09 12:50:00', '2011-12-09 12:50:00',\n",
            "               '2011-12-09 12:50:00', '2011-12-09 12:50:00'],\n",
            "              dtype='datetime64[ns]', name='DATE_TIME', length=1044419, freq=None)\n"
          ]
        },
        {
          "output_type": "stream",
          "name": "stderr",
          "text": [
            "<ipython-input-14-61bea737d70f>:31: SettingWithCopyWarning: \n",
            "A value is trying to be set on a copy of a slice from a DataFrame.\n",
            "Try using .loc[row_indexer,col_indexer] = value instead\n",
            "\n",
            "See the caveats in the documentation: https://pandas.pydata.org/pandas-docs/stable/user_guide/indexing.html#returning-a-view-versus-a-copy\n",
            "  df_sinoutliers['DATE_TIME'] = pd.to_datetime(df_sinoutliers['InvoiceDate'])\n",
            "<ipython-input-14-61bea737d70f>:33: SettingWithCopyWarning: \n",
            "A value is trying to be set on a copy of a slice from a DataFrame.\n",
            "Try using .loc[row_indexer,col_indexer] = value instead\n",
            "\n",
            "See the caveats in the documentation: https://pandas.pydata.org/pandas-docs/stable/user_guide/indexing.html#returning-a-view-versus-a-copy\n",
            "  df_sinoutliers['DATE_TIME'] = pd.to_datetime(df_sinoutliers['DATE_TIME'], errors='coerce')\n",
            "<ipython-input-14-61bea737d70f>:37: SettingWithCopyWarning: \n",
            "A value is trying to be set on a copy of a slice from a DataFrame.\n",
            "Try using .loc[row_indexer,col_indexer] = value instead\n",
            "\n",
            "See the caveats in the documentation: https://pandas.pydata.org/pandas-docs/stable/user_guide/indexing.html#returning-a-view-versus-a-copy\n",
            "  df_sinoutliers['DATE_TIME'] = pd.to_datetime(df_sinoutliers['DATE_TIME'], errors='coerce')\n"
          ]
        }
      ],
      "source": [
        "import pandas as pd\n",
        "import numpy as np\n",
        "\n",
        "# Calcular el rango intercuartil (IQR) para detectar valores atípicos en 'Quantity'\n",
        "Q1 = df_completo['Quantity'].quantile(0.25)\n",
        "Q3 = df_completo['Quantity'].quantile(0.75)\n",
        "IQR = Q3 - Q1\n",
        "\n",
        "# Definir los límites para detectar valores atípicos\n",
        "lower_bound = Q1 - 1.5 * IQR\n",
        "upper_bound = Q3 + 1.5 * IQR\n",
        "\n",
        "# Identificar los valores atípicos\n",
        "outliers = df_completo[(df_completo['Quantity'] < lower_bound) | (df_completo['Quantity'] > upper_bound)]\n",
        "\n",
        "# Filtrar los outliers que son menores a 60,000 o mayores a 60,000\n",
        "filtered_outliers = outliers[(outliers['Quantity'] > 20000)]\n",
        "filtered_outliers1 = outliers[(outliers['Quantity'] < -20000)]\n",
        "print(filtered_outliers)\n",
        "print(filtered_outliers1)\n",
        "# Filtrar para eliminar valores mayores a 20000 y valores negativos\n",
        "df_filtrado = df_completo[(df_completo['Quantity'] <= 20000) & (df_completo['Quantity'] >= 0)]\n",
        "\n",
        "# Verificar el resultado\n",
        "print(f\"Filas originales: {df_completo.shape[0]}\")\n",
        "print(f\"Filas después de filtrar: {df_filtrado.shape[0]}\")\n",
        "df_sinoutliers= df_filtrado\n",
        "# Para ver las columnas de df_sinoutliers\n",
        "print(df_sinoutliers.columns)\n",
        "# Asegúrate de que 'DATE_TIME' esté en formato datetime\n",
        "df_sinoutliers['DATE_TIME'] = pd.to_datetime(df_sinoutliers['InvoiceDate'])\n",
        "# Asegúrate de que 'DATE_TIME' es una columna de tipo datetime\n",
        "df_sinoutliers['DATE_TIME'] = pd.to_datetime(df_sinoutliers['DATE_TIME'], errors='coerce')\n",
        "import pandas as pd\n",
        "\n",
        "# Asegúrate de que la columna 'DATE_TIME' sea del tipo datetime\n",
        "df_sinoutliers['DATE_TIME'] = pd.to_datetime(df_sinoutliers['DATE_TIME'], errors='coerce')\n",
        "\n",
        "# Verificar si la conversión fue exitosa\n",
        "print(df_sinoutliers['DATE_TIME'].head())  # Mostrar las primeras filas de la columna 'DATE_TIME'\n",
        "\n",
        "# Verificar si hay valores nulos después de la conversión\n",
        "print(f'Cantidad de valores nulos en DATE_TIME: {df_sinoutliers[\"DATE_TIME\"].isna().sum()}')\n",
        "\n",
        "# Si es necesario, establecer 'DATE_TIME' como índice (si se va a usar como tal)\n",
        "df_sinoutliers.set_index('DATE_TIME', inplace=True)\n",
        "\n",
        "# Ahora la columna 'DATE_TIME' está convertida correctamente a tipo datetime y como índice\n",
        "print(df_sinoutliers.index)  # Verificar que el índice es de tipo DatetimeIndex"
      ]
    },
    {
      "cell_type": "code",
      "execution_count": null,
      "metadata": {
        "colab": {
          "base_uri": "https://localhost:8080/"
        },
        "id": "ddU3NHQPmqxc",
        "outputId": "e381d656-fbd4-4db7-cc0a-4b0917de10f2"
      },
      "outputs": [
        {
          "output_type": "stream",
          "name": "stdout",
          "text": [
            "0   2009-12-01 07:45:00\n",
            "1   2009-12-01 07:45:00\n",
            "2   2009-12-01 07:45:00\n",
            "3   2009-12-01 07:45:00\n",
            "4   2009-12-01 07:45:00\n",
            "Name: DATE_TIME, dtype: datetime64[ns]\n",
            "<class 'pandas.core.indexes.datetimes.DatetimeIndex'>\n"
          ]
        },
        {
          "output_type": "stream",
          "name": "stderr",
          "text": [
            "<ipython-input-15-7d68cb00d634>:5: SettingWithCopyWarning: \n",
            "A value is trying to be set on a copy of a slice from a DataFrame.\n",
            "Try using .loc[row_indexer,col_indexer] = value instead\n",
            "\n",
            "See the caveats in the documentation: https://pandas.pydata.org/pandas-docs/stable/user_guide/indexing.html#returning-a-view-versus-a-copy\n",
            "  df_sinoutliers['DATE_TIME'] = pd.to_datetime(df_sinoutliers['DATE_TIME'], errors='coerce')\n"
          ]
        }
      ],
      "source": [
        "# Si 'DATE_TIME' es el índice, reseteamos el índice para convertirlo en una columna normal\n",
        "df_sinoutliers.reset_index(inplace=True)\n",
        "\n",
        "# Ahora 'DATE_TIME' es una columna normal, y puedes acceder a ella sin problemas\n",
        "df_sinoutliers['DATE_TIME'] = pd.to_datetime(df_sinoutliers['DATE_TIME'], errors='coerce')\n",
        "\n",
        "# Verificar si 'DATE_TIME' ahora está correctamente convertida\n",
        "print(df_sinoutliers['DATE_TIME'].head())\n",
        "# Si ya tienes el índice como 'DATE_TIME', no es necesario convertirlo a columna\n",
        "df_sinoutliers.set_index('DATE_TIME', inplace=True)\n",
        "\n",
        "# Verificar el tipo de índice (debe ser DatetimeIndex)\n",
        "print(type(df_sinoutliers.index))  # Esto debe imprimir: <class 'pandas.core.indexes.datetimes.DatetimeIndex'>"
      ]
    },
    {
      "cell_type": "markdown",
      "metadata": {
        "id": "uvsUt7_4mqxc"
      },
      "source": [
        "EN ESTE PROCESO DEBEMOS REPARTIR NUESTROS DATOS en train test forcast Y TRABAJAR CON MIMAXESCALER"
      ]
    },
    {
      "cell_type": "code",
      "execution_count": null,
      "metadata": {
        "id": "tPLZneOBmqxd"
      },
      "outputs": [],
      "source": [
        "train_size = int(len(df_sinoutliers) * 0.8)\n",
        "train_data = df_sinoutliers.iloc[:train_size]\n",
        "test_data = df_sinoutliers.iloc[train_size:]\n"
      ]
    },
    {
      "cell_type": "code",
      "execution_count": null,
      "metadata": {
        "id": "cJNy1Lp6mqxd"
      },
      "outputs": [],
      "source": [
        "sample_data = df_sinoutliers.sample(frac=0.1, random_state=42)\n"
      ]
    },
    {
      "cell_type": "code",
      "execution_count": null,
      "metadata": {
        "id": "-zl-PCDDmqxd"
      },
      "outputs": [],
      "source": [
        "forecast_data = df_sinoutliers.tail(12)\n"
      ]
    },
    {
      "cell_type": "code",
      "execution_count": null,
      "metadata": {
        "colab": {
          "base_uri": "https://localhost:8080/"
        },
        "id": "-mtQ0ZL3mqxd",
        "outputId": "5aae9dd7-ce9f-4874-ab0d-fed23fc86b49"
      },
      "outputs": [
        {
          "output_type": "stream",
          "name": "stdout",
          "text": [
            "Index(['Invoice', 'StockCode', 'Description', 'Quantity', 'InvoiceDate',\n",
            "       'Price', 'Customer ID', 'Country'],\n",
            "      dtype='object')\n"
          ]
        },
        {
          "output_type": "stream",
          "name": "stderr",
          "text": [
            "<ipython-input-19-007495cdfda6>:6: SettingWithCopyWarning: \n",
            "A value is trying to be set on a copy of a slice from a DataFrame.\n",
            "Try using .loc[row_indexer,col_indexer] = value instead\n",
            "\n",
            "See the caveats in the documentation: https://pandas.pydata.org/pandas-docs/stable/user_guide/indexing.html#returning-a-view-versus-a-copy\n",
            "  df_sinoutliers['InvoiceDate'] = pd.to_datetime(df_sinoutliers['InvoiceDate'], errors='coerce')\n"
          ]
        }
      ],
      "source": [
        "# Obtener los nombres de las columnas de 'df_sinoutliers'\n",
        "column_names = df_sinoutliers.columns\n",
        "\n",
        "# Imprimir los nombres de las columnas\n",
        "print(column_names)\n",
        "df_sinoutliers['InvoiceDate'] = pd.to_datetime(df_sinoutliers['InvoiceDate'], errors='coerce')\n"
      ]
    },
    {
      "cell_type": "code",
      "execution_count": null,
      "metadata": {
        "colab": {
          "base_uri": "https://localhost:8080/"
        },
        "id": "gJ43Uzttq2eE",
        "outputId": "37e8a84d-ecbd-476c-d770-0a5f27d6bf94"
      },
      "outputs": [
        {
          "output_type": "stream",
          "name": "stderr",
          "text": [
            "<ipython-input-20-b19bb3b17df4>:1: SettingWithCopyWarning: \n",
            "A value is trying to be set on a copy of a slice from a DataFrame.\n",
            "Try using .loc[row_indexer,col_indexer] = value instead\n",
            "\n",
            "See the caveats in the documentation: https://pandas.pydata.org/pandas-docs/stable/user_guide/indexing.html#returning-a-view-versus-a-copy\n",
            "  df_sinoutliers['Year'] = df_sinoutliers['InvoiceDate'].dt.year\n",
            "<ipython-input-20-b19bb3b17df4>:2: SettingWithCopyWarning: \n",
            "A value is trying to be set on a copy of a slice from a DataFrame.\n",
            "Try using .loc[row_indexer,col_indexer] = value instead\n",
            "\n",
            "See the caveats in the documentation: https://pandas.pydata.org/pandas-docs/stable/user_guide/indexing.html#returning-a-view-versus-a-copy\n",
            "  df_sinoutliers['Month'] = df_sinoutliers['InvoiceDate'].dt.month\n",
            "<ipython-input-20-b19bb3b17df4>:3: SettingWithCopyWarning: \n",
            "A value is trying to be set on a copy of a slice from a DataFrame.\n",
            "Try using .loc[row_indexer,col_indexer] = value instead\n",
            "\n",
            "See the caveats in the documentation: https://pandas.pydata.org/pandas-docs/stable/user_guide/indexing.html#returning-a-view-versus-a-copy\n",
            "  df_sinoutliers['Day'] = df_sinoutliers['InvoiceDate'].dt.day\n",
            "<ipython-input-20-b19bb3b17df4>:4: SettingWithCopyWarning: \n",
            "A value is trying to be set on a copy of a slice from a DataFrame.\n",
            "Try using .loc[row_indexer,col_indexer] = value instead\n",
            "\n",
            "See the caveats in the documentation: https://pandas.pydata.org/pandas-docs/stable/user_guide/indexing.html#returning-a-view-versus-a-copy\n",
            "  df_sinoutliers['Hour'] = df_sinoutliers['InvoiceDate'].dt.hour\n",
            "<ipython-input-20-b19bb3b17df4>:5: SettingWithCopyWarning: \n",
            "A value is trying to be set on a copy of a slice from a DataFrame.\n",
            "Try using .loc[row_indexer,col_indexer] = value instead\n",
            "\n",
            "See the caveats in the documentation: https://pandas.pydata.org/pandas-docs/stable/user_guide/indexing.html#returning-a-view-versus-a-copy\n",
            "  df_sinoutliers['Minute'] = df_sinoutliers['InvoiceDate'].dt.minute\n",
            "<ipython-input-20-b19bb3b17df4>:6: SettingWithCopyWarning: \n",
            "A value is trying to be set on a copy of a slice from a DataFrame.\n",
            "Try using .loc[row_indexer,col_indexer] = value instead\n",
            "\n",
            "See the caveats in the documentation: https://pandas.pydata.org/pandas-docs/stable/user_guide/indexing.html#returning-a-view-versus-a-copy\n",
            "  df_sinoutliers['Second'] = df_sinoutliers['InvoiceDate'].dt.second\n"
          ]
        }
      ],
      "source": [
        "df_sinoutliers['Year'] = df_sinoutliers['InvoiceDate'].dt.year\n",
        "df_sinoutliers['Month'] = df_sinoutliers['InvoiceDate'].dt.month\n",
        "df_sinoutliers['Day'] = df_sinoutliers['InvoiceDate'].dt.day\n",
        "df_sinoutliers['Hour'] = df_sinoutliers['InvoiceDate'].dt.hour\n",
        "df_sinoutliers['Minute'] = df_sinoutliers['InvoiceDate'].dt.minute\n",
        "df_sinoutliers['Second'] = df_sinoutliers['InvoiceDate'].dt.second\n"
      ]
    },
    {
      "cell_type": "code",
      "execution_count": null,
      "metadata": {
        "id": "l1nMe7QImqxd"
      },
      "outputs": [],
      "source": [
        "from sklearn.preprocessing import StandardScaler\n",
        "from sklearn.model_selection import train_test_split\n",
        "\n",
        "# Selección de las características (X) y la variable objetivo (y)\n",
        "X = df_sinoutliers[['Year', 'Month', 'Day', 'Hour', 'Minute', 'Second']]  # Características extraídas de 'InvoiceDate'\n",
        "y = df_sinoutliers['Quantity']  # Variable objetivo\n",
        "\n",
        "# Normalización de las características numéricas\n",
        "scaler = StandardScaler()\n",
        "X_scaled = scaler.fit_transform(X)\n",
        "\n",
        "# Dividir el conjunto de datos en entrenamiento y prueba\n",
        "X_train, X_test, y_train, y_test = train_test_split(X_scaled, y, test_size=0.2, random_state=42)\n",
        "\n"
      ]
    },
    {
      "cell_type": "code",
      "execution_count": null,
      "metadata": {
        "id": "xxX4_F2Tmqxd"
      },
      "outputs": [],
      "source": [
        "import numpy as np\n",
        "from sklearn.preprocessing import MinMaxScaler\n",
        "from sklearn.model_selection import train_test_split\n",
        "\n",
        "# 1. Dividir los datos en entrenamiento y prueba\n",
        "X_train, X_test, y_train, y_test = train_test_split(X, y, test_size=0.2, random_state=42)\n",
        "\n",
        "# 2. Inicializar el MinMaxScaler\n",
        "scaler = MinMaxScaler(feature_range=(0, 1))\n",
        "\n",
        "# 3. Aplicar el escalado solo en el conjunto de entrenamiento\n",
        "X_train_scaled = scaler.fit_transform(X_train)  # Ajustar el scaler y transformar los datos de entrenamiento\n",
        "\n",
        "# 4. Aplicar el escalado en el conjunto de prueba usando el mismo scaler (sin recalcular)\n",
        "X_test_scaled = scaler.transform(X_test)  # Solo transformar el conjunto de prueba con el scaler ajustado en el conjunto de entrenamiento\n",
        "\n",
        "# Ahora puedes usar X_train_scaled y X_test_scaled para entrenar y probar tu modelo.\n"
      ]
    },
    {
      "cell_type": "code",
      "execution_count": null,
      "metadata": {
        "id": "BqlHEfQlmqxe"
      },
      "outputs": [],
      "source": [
        "X_train.reset_index(drop=True, inplace=True)\n"
      ]
    },
    {
      "cell_type": "code",
      "execution_count": null,
      "metadata": {
        "colab": {
          "base_uri": "https://localhost:8080/",
          "height": 206
        },
        "id": "uv8Kk8etmqxe",
        "outputId": "dd381533-4b68-4230-b7a2-40ceca1eb907"
      },
      "outputs": [
        {
          "output_type": "execute_result",
          "data": {
            "text/plain": [
              "   Year  Month  Day  Hour  Minute  Second\n",
              "0  2009     12   11    15      40       0\n",
              "1  2011      5   10    10       0       0\n",
              "2  2011     11   29    17      52       0\n",
              "3  2011     10    3     9      44       0\n",
              "4  2010     11   26    16      31       0"
            ],
            "text/html": [
              "\n",
              "  <div id=\"df-d6908930-272b-42c2-a86b-a23ab5000941\" class=\"colab-df-container\">\n",
              "    <div>\n",
              "<style scoped>\n",
              "    .dataframe tbody tr th:only-of-type {\n",
              "        vertical-align: middle;\n",
              "    }\n",
              "\n",
              "    .dataframe tbody tr th {\n",
              "        vertical-align: top;\n",
              "    }\n",
              "\n",
              "    .dataframe thead th {\n",
              "        text-align: right;\n",
              "    }\n",
              "</style>\n",
              "<table border=\"1\" class=\"dataframe\">\n",
              "  <thead>\n",
              "    <tr style=\"text-align: right;\">\n",
              "      <th></th>\n",
              "      <th>Year</th>\n",
              "      <th>Month</th>\n",
              "      <th>Day</th>\n",
              "      <th>Hour</th>\n",
              "      <th>Minute</th>\n",
              "      <th>Second</th>\n",
              "    </tr>\n",
              "  </thead>\n",
              "  <tbody>\n",
              "    <tr>\n",
              "      <th>0</th>\n",
              "      <td>2009</td>\n",
              "      <td>12</td>\n",
              "      <td>11</td>\n",
              "      <td>15</td>\n",
              "      <td>40</td>\n",
              "      <td>0</td>\n",
              "    </tr>\n",
              "    <tr>\n",
              "      <th>1</th>\n",
              "      <td>2011</td>\n",
              "      <td>5</td>\n",
              "      <td>10</td>\n",
              "      <td>10</td>\n",
              "      <td>0</td>\n",
              "      <td>0</td>\n",
              "    </tr>\n",
              "    <tr>\n",
              "      <th>2</th>\n",
              "      <td>2011</td>\n",
              "      <td>11</td>\n",
              "      <td>29</td>\n",
              "      <td>17</td>\n",
              "      <td>52</td>\n",
              "      <td>0</td>\n",
              "    </tr>\n",
              "    <tr>\n",
              "      <th>3</th>\n",
              "      <td>2011</td>\n",
              "      <td>10</td>\n",
              "      <td>3</td>\n",
              "      <td>9</td>\n",
              "      <td>44</td>\n",
              "      <td>0</td>\n",
              "    </tr>\n",
              "    <tr>\n",
              "      <th>4</th>\n",
              "      <td>2010</td>\n",
              "      <td>11</td>\n",
              "      <td>26</td>\n",
              "      <td>16</td>\n",
              "      <td>31</td>\n",
              "      <td>0</td>\n",
              "    </tr>\n",
              "  </tbody>\n",
              "</table>\n",
              "</div>\n",
              "    <div class=\"colab-df-buttons\">\n",
              "\n",
              "  <div class=\"colab-df-container\">\n",
              "    <button class=\"colab-df-convert\" onclick=\"convertToInteractive('df-d6908930-272b-42c2-a86b-a23ab5000941')\"\n",
              "            title=\"Convert this dataframe to an interactive table.\"\n",
              "            style=\"display:none;\">\n",
              "\n",
              "  <svg xmlns=\"http://www.w3.org/2000/svg\" height=\"24px\" viewBox=\"0 -960 960 960\">\n",
              "    <path d=\"M120-120v-720h720v720H120Zm60-500h600v-160H180v160Zm220 220h160v-160H400v160Zm0 220h160v-160H400v160ZM180-400h160v-160H180v160Zm440 0h160v-160H620v160ZM180-180h160v-160H180v160Zm440 0h160v-160H620v160Z\"/>\n",
              "  </svg>\n",
              "    </button>\n",
              "\n",
              "  <style>\n",
              "    .colab-df-container {\n",
              "      display:flex;\n",
              "      gap: 12px;\n",
              "    }\n",
              "\n",
              "    .colab-df-convert {\n",
              "      background-color: #E8F0FE;\n",
              "      border: none;\n",
              "      border-radius: 50%;\n",
              "      cursor: pointer;\n",
              "      display: none;\n",
              "      fill: #1967D2;\n",
              "      height: 32px;\n",
              "      padding: 0 0 0 0;\n",
              "      width: 32px;\n",
              "    }\n",
              "\n",
              "    .colab-df-convert:hover {\n",
              "      background-color: #E2EBFA;\n",
              "      box-shadow: 0px 1px 2px rgba(60, 64, 67, 0.3), 0px 1px 3px 1px rgba(60, 64, 67, 0.15);\n",
              "      fill: #174EA6;\n",
              "    }\n",
              "\n",
              "    .colab-df-buttons div {\n",
              "      margin-bottom: 4px;\n",
              "    }\n",
              "\n",
              "    [theme=dark] .colab-df-convert {\n",
              "      background-color: #3B4455;\n",
              "      fill: #D2E3FC;\n",
              "    }\n",
              "\n",
              "    [theme=dark] .colab-df-convert:hover {\n",
              "      background-color: #434B5C;\n",
              "      box-shadow: 0px 1px 3px 1px rgba(0, 0, 0, 0.15);\n",
              "      filter: drop-shadow(0px 1px 2px rgba(0, 0, 0, 0.3));\n",
              "      fill: #FFFFFF;\n",
              "    }\n",
              "  </style>\n",
              "\n",
              "    <script>\n",
              "      const buttonEl =\n",
              "        document.querySelector('#df-d6908930-272b-42c2-a86b-a23ab5000941 button.colab-df-convert');\n",
              "      buttonEl.style.display =\n",
              "        google.colab.kernel.accessAllowed ? 'block' : 'none';\n",
              "\n",
              "      async function convertToInteractive(key) {\n",
              "        const element = document.querySelector('#df-d6908930-272b-42c2-a86b-a23ab5000941');\n",
              "        const dataTable =\n",
              "          await google.colab.kernel.invokeFunction('convertToInteractive',\n",
              "                                                    [key], {});\n",
              "        if (!dataTable) return;\n",
              "\n",
              "        const docLinkHtml = 'Like what you see? Visit the ' +\n",
              "          '<a target=\"_blank\" href=https://colab.research.google.com/notebooks/data_table.ipynb>data table notebook</a>'\n",
              "          + ' to learn more about interactive tables.';\n",
              "        element.innerHTML = '';\n",
              "        dataTable['output_type'] = 'display_data';\n",
              "        await google.colab.output.renderOutput(dataTable, element);\n",
              "        const docLink = document.createElement('div');\n",
              "        docLink.innerHTML = docLinkHtml;\n",
              "        element.appendChild(docLink);\n",
              "      }\n",
              "    </script>\n",
              "  </div>\n",
              "\n",
              "\n",
              "<div id=\"df-83f34d83-af3f-43f7-946f-b9f91abf9561\">\n",
              "  <button class=\"colab-df-quickchart\" onclick=\"quickchart('df-83f34d83-af3f-43f7-946f-b9f91abf9561')\"\n",
              "            title=\"Suggest charts\"\n",
              "            style=\"display:none;\">\n",
              "\n",
              "<svg xmlns=\"http://www.w3.org/2000/svg\" height=\"24px\"viewBox=\"0 0 24 24\"\n",
              "     width=\"24px\">\n",
              "    <g>\n",
              "        <path d=\"M19 3H5c-1.1 0-2 .9-2 2v14c0 1.1.9 2 2 2h14c1.1 0 2-.9 2-2V5c0-1.1-.9-2-2-2zM9 17H7v-7h2v7zm4 0h-2V7h2v10zm4 0h-2v-4h2v4z\"/>\n",
              "    </g>\n",
              "</svg>\n",
              "  </button>\n",
              "\n",
              "<style>\n",
              "  .colab-df-quickchart {\n",
              "      --bg-color: #E8F0FE;\n",
              "      --fill-color: #1967D2;\n",
              "      --hover-bg-color: #E2EBFA;\n",
              "      --hover-fill-color: #174EA6;\n",
              "      --disabled-fill-color: #AAA;\n",
              "      --disabled-bg-color: #DDD;\n",
              "  }\n",
              "\n",
              "  [theme=dark] .colab-df-quickchart {\n",
              "      --bg-color: #3B4455;\n",
              "      --fill-color: #D2E3FC;\n",
              "      --hover-bg-color: #434B5C;\n",
              "      --hover-fill-color: #FFFFFF;\n",
              "      --disabled-bg-color: #3B4455;\n",
              "      --disabled-fill-color: #666;\n",
              "  }\n",
              "\n",
              "  .colab-df-quickchart {\n",
              "    background-color: var(--bg-color);\n",
              "    border: none;\n",
              "    border-radius: 50%;\n",
              "    cursor: pointer;\n",
              "    display: none;\n",
              "    fill: var(--fill-color);\n",
              "    height: 32px;\n",
              "    padding: 0;\n",
              "    width: 32px;\n",
              "  }\n",
              "\n",
              "  .colab-df-quickchart:hover {\n",
              "    background-color: var(--hover-bg-color);\n",
              "    box-shadow: 0 1px 2px rgba(60, 64, 67, 0.3), 0 1px 3px 1px rgba(60, 64, 67, 0.15);\n",
              "    fill: var(--button-hover-fill-color);\n",
              "  }\n",
              "\n",
              "  .colab-df-quickchart-complete:disabled,\n",
              "  .colab-df-quickchart-complete:disabled:hover {\n",
              "    background-color: var(--disabled-bg-color);\n",
              "    fill: var(--disabled-fill-color);\n",
              "    box-shadow: none;\n",
              "  }\n",
              "\n",
              "  .colab-df-spinner {\n",
              "    border: 2px solid var(--fill-color);\n",
              "    border-color: transparent;\n",
              "    border-bottom-color: var(--fill-color);\n",
              "    animation:\n",
              "      spin 1s steps(1) infinite;\n",
              "  }\n",
              "\n",
              "  @keyframes spin {\n",
              "    0% {\n",
              "      border-color: transparent;\n",
              "      border-bottom-color: var(--fill-color);\n",
              "      border-left-color: var(--fill-color);\n",
              "    }\n",
              "    20% {\n",
              "      border-color: transparent;\n",
              "      border-left-color: var(--fill-color);\n",
              "      border-top-color: var(--fill-color);\n",
              "    }\n",
              "    30% {\n",
              "      border-color: transparent;\n",
              "      border-left-color: var(--fill-color);\n",
              "      border-top-color: var(--fill-color);\n",
              "      border-right-color: var(--fill-color);\n",
              "    }\n",
              "    40% {\n",
              "      border-color: transparent;\n",
              "      border-right-color: var(--fill-color);\n",
              "      border-top-color: var(--fill-color);\n",
              "    }\n",
              "    60% {\n",
              "      border-color: transparent;\n",
              "      border-right-color: var(--fill-color);\n",
              "    }\n",
              "    80% {\n",
              "      border-color: transparent;\n",
              "      border-right-color: var(--fill-color);\n",
              "      border-bottom-color: var(--fill-color);\n",
              "    }\n",
              "    90% {\n",
              "      border-color: transparent;\n",
              "      border-bottom-color: var(--fill-color);\n",
              "    }\n",
              "  }\n",
              "</style>\n",
              "\n",
              "  <script>\n",
              "    async function quickchart(key) {\n",
              "      const quickchartButtonEl =\n",
              "        document.querySelector('#' + key + ' button');\n",
              "      quickchartButtonEl.disabled = true;  // To prevent multiple clicks.\n",
              "      quickchartButtonEl.classList.add('colab-df-spinner');\n",
              "      try {\n",
              "        const charts = await google.colab.kernel.invokeFunction(\n",
              "            'suggestCharts', [key], {});\n",
              "      } catch (error) {\n",
              "        console.error('Error during call to suggestCharts:', error);\n",
              "      }\n",
              "      quickchartButtonEl.classList.remove('colab-df-spinner');\n",
              "      quickchartButtonEl.classList.add('colab-df-quickchart-complete');\n",
              "    }\n",
              "    (() => {\n",
              "      let quickchartButtonEl =\n",
              "        document.querySelector('#df-83f34d83-af3f-43f7-946f-b9f91abf9561 button');\n",
              "      quickchartButtonEl.style.display =\n",
              "        google.colab.kernel.accessAllowed ? 'block' : 'none';\n",
              "    })();\n",
              "  </script>\n",
              "</div>\n",
              "\n",
              "    </div>\n",
              "  </div>\n"
            ],
            "application/vnd.google.colaboratory.intrinsic+json": {
              "type": "dataframe",
              "variable_name": "X_train"
            }
          },
          "metadata": {},
          "execution_count": 24
        }
      ],
      "source": [
        "X_train.head()"
      ]
    },
    {
      "cell_type": "code",
      "source": [
        "import numpy as np\n",
        "from keras.models import Sequential\n",
        "from keras.layers import SimpleRNN, Dense\n",
        "from keras.optimizers import Adam\n",
        "from sklearn.metrics import mean_squared_error, mean_absolute_error\n",
        "from sklearn.model_selection import train_test_split\n",
        "from statsmodels.stats.diagnostic import acorr_ljungbox  # Para el Ljung-Box Test\n",
        "\n",
        "# Dividir los datos en conjuntos de entrenamiento y prueba\n",
        "X_train, X_test, y_train, y_test = train_test_split(X, y, test_size=0.2, random_state=42)\n",
        "\n",
        "# Verificar formas de los datos\n",
        "print(f\"Forma de X_train: {X_train.shape}\")\n",
        "print(f\"Forma de X_test: {X_test.shape}\")\n",
        "print(f\"Forma de y_train: {y_train.shape}\")\n",
        "print(f\"Forma de y_test: {y_test.shape}\")\n",
        "\n",
        "# Convertir DataFrames a matrices de NumPy\n",
        "X_train = X_train.values\n",
        "X_test = X_test.values\n",
        "\n",
        "# Remodelar los datos para RNN: 3D (samples, timesteps, features)\n",
        "X_train_rnn = X_train.reshape((X_train.shape[0], 6, 1))\n",
        "X_test_rnn = X_test.reshape((X_test.shape[0], 6, 1))\n",
        "\n",
        "print(f\"Forma de X_train_rnn: {X_train_rnn.shape}\")\n",
        "print(f\"Forma de X_test_rnn: {X_test_rnn.shape}\")\n",
        "\n",
        "# Modelar la red RNN\n",
        "rnn_model = Sequential()\n",
        "rnn_model.add(SimpleRNN(units=50, activation='relu', input_shape=(6, 1)))\n",
        "rnn_model.add(Dense(1))\n",
        "rnn_model.compile(optimizer=Adam(), loss='mean_squared_error')\n",
        "\n",
        "# Entrenar el modelo RNN\n",
        "rnn_model.fit(X_train_rnn, y_train, epochs=10, batch_size=32, verbose=1)\n",
        "\n",
        "# Predicciones\n",
        "y_pred_rnn = rnn_model.predict(X_test_rnn)\n",
        "\n",
        "# Aplanar y_pred_rnn\n",
        "y_pred_rnn = y_pred_rnn.flatten()\n",
        "\n",
        "# Verificar formas después de aplanar\n",
        "print(f\"Forma de y_test: {y_test.shape}\")\n",
        "print(f\"Forma de y_pred_rnn: {y_pred_rnn.shape}\")\n",
        "\n",
        "# Asegurarnos de que no hay valores NaN en y_test ni en las predicciones\n",
        "if np.any(np.isnan(y_test)) or np.any(np.isnan(y_pred_rnn)):\n",
        "    print(\"Hay valores NaN en y_test o y_pred_rnn. Verifica tus datos.\")\n",
        "elif y_test.shape[0] != y_pred_rnn.shape[0]:\n",
        "    print(f\"Error: y_test tiene {y_test.shape[0]} muestras, y_pred_rnn tiene {y_pred_rnn.shape[0]} muestras.\")\n",
        "else:\n",
        "    # Calcular MSE (Mean Squared Error)\n",
        "    mse_rnn = mean_squared_error(y_test, y_pred_rnn)\n",
        "    # Calcular RMSE (Root Mean Squared Error)\n",
        "    rmse_rnn = np.sqrt(mse_rnn)\n",
        "    # Calcular MAE (Mean Absolute Error)\n",
        "    mae_rnn = mean_absolute_error(y_test, y_pred_rnn)\n",
        "    # Calcular MAPE (Mean Absolute Percentage Error)\n",
        "    mape_rnn = np.mean(np.abs((y_test - y_pred_rnn) / y_test)) * 100  # MAPE en porcentaje\n",
        "\n",
        "    # Calcular los residuos\n",
        "    residuos = y_test - y_pred_rnn\n",
        "\n",
        "    # Aplicar el Ljung-Box Test a los residuos\n",
        "    ljung_box_result = acorr_ljungbox(residuos, lags=10)  # Prueba de autocorrelación para 10 lags\n",
        "    p_value_ljung_box = ljung_box_result.iloc[-1, 1]  # P-value del último lag\n",
        "\n",
        "    # Mostrar resultados\n",
        "    print(\"Evaluación RNN:\")\n",
        "    print(f'MSE: {mse_rnn}')\n",
        "    print(f'RMSE: {rmse_rnn}')\n",
        "    print(f'MAE: {mae_rnn}')\n",
        "    print(f'MAPE: {mape_rnn:.2f}%')\n",
        "    print(f'Ljung-Box Test p-value: {p_value_ljung_box:.4f}')"
      ],
      "metadata": {
        "colab": {
          "base_uri": "https://localhost:8080/"
        },
        "id": "9Q0YrwRgrXRp",
        "outputId": "6005cec7-f2d7-4aa6-d9d5-ab346bc8646f"
      },
      "execution_count": null,
      "outputs": [
        {
          "output_type": "stream",
          "name": "stdout",
          "text": [
            "Forma de X_train: (835535, 6)\n",
            "Forma de X_test: (208884, 6)\n",
            "Forma de y_train: (835535,)\n",
            "Forma de y_test: (208884,)\n",
            "Forma de X_train_rnn: (835535, 6, 1)\n",
            "Forma de X_test_rnn: (208884, 6, 1)\n"
          ]
        },
        {
          "output_type": "stream",
          "name": "stderr",
          "text": [
            "/usr/local/lib/python3.11/dist-packages/keras/src/layers/rnn/rnn.py:200: UserWarning: Do not pass an `input_shape`/`input_dim` argument to a layer. When using Sequential models, prefer using an `Input(shape)` object as the first layer in the model instead.\n",
            "  super().__init__(**kwargs)\n"
          ]
        },
        {
          "output_type": "stream",
          "name": "stdout",
          "text": [
            "Epoch 1/10\n",
            "\u001b[1m26111/26111\u001b[0m \u001b[32m━━━━━━━━━━━━━━━━━━━━\u001b[0m\u001b[37m\u001b[0m \u001b[1m93s\u001b[0m 3ms/step - loss: 5479.2026\n",
            "Epoch 2/10\n",
            "\u001b[1m26111/26111\u001b[0m \u001b[32m━━━━━━━━━━━━━━━━━━━━\u001b[0m\u001b[37m\u001b[0m \u001b[1m82s\u001b[0m 3ms/step - loss: 4712.8086\n",
            "Epoch 3/10\n",
            "\u001b[1m26111/26111\u001b[0m \u001b[32m━━━━━━━━━━━━━━━━━━━━\u001b[0m\u001b[37m\u001b[0m \u001b[1m84s\u001b[0m 3ms/step - loss: 4408.5610\n",
            "Epoch 4/10\n",
            "\u001b[1m26111/26111\u001b[0m \u001b[32m━━━━━━━━━━━━━━━━━━━━\u001b[0m\u001b[37m\u001b[0m \u001b[1m80s\u001b[0m 3ms/step - loss: 5228.6167\n",
            "Epoch 5/10\n",
            "\u001b[1m26111/26111\u001b[0m \u001b[32m━━━━━━━━━━━━━━━━━━━━\u001b[0m\u001b[37m\u001b[0m \u001b[1m83s\u001b[0m 3ms/step - loss: 5630.1772\n",
            "Epoch 6/10\n",
            "\u001b[1m26111/26111\u001b[0m \u001b[32m━━━━━━━━━━━━━━━━━━━━\u001b[0m\u001b[37m\u001b[0m \u001b[1m79s\u001b[0m 3ms/step - loss: 6683.3032\n",
            "Epoch 7/10\n",
            "\u001b[1m26111/26111\u001b[0m \u001b[32m━━━━━━━━━━━━━━━━━━━━\u001b[0m\u001b[37m\u001b[0m \u001b[1m82s\u001b[0m 3ms/step - loss: 4121.7197\n",
            "Epoch 8/10\n",
            "\u001b[1m26111/26111\u001b[0m \u001b[32m━━━━━━━━━━━━━━━━━━━━\u001b[0m\u001b[37m\u001b[0m \u001b[1m78s\u001b[0m 3ms/step - loss: 5259.2188\n",
            "Epoch 9/10\n",
            "\u001b[1m26111/26111\u001b[0m \u001b[32m━━━━━━━━━━━━━━━━━━━━\u001b[0m\u001b[37m\u001b[0m \u001b[1m78s\u001b[0m 3ms/step - loss: 4897.0708\n",
            "Epoch 10/10\n",
            "\u001b[1m26111/26111\u001b[0m \u001b[32m━━━━━━━━━━━━━━━━━━━━\u001b[0m\u001b[37m\u001b[0m \u001b[1m85s\u001b[0m 3ms/step - loss: 4816.3398\n",
            "\u001b[1m6528/6528\u001b[0m \u001b[32m━━━━━━━━━━━━━━━━━━━━\u001b[0m\u001b[37m\u001b[0m \u001b[1m11s\u001b[0m 2ms/step\n",
            "Forma de y_test: (208884,)\n",
            "Forma de y_pred_rnn: (208884,)\n",
            "Evaluación RNN:\n",
            "MSE: 4557.58984375\n",
            "RMSE: 67.50992403898852\n",
            "MAE: 11.829421043395996\n",
            "MAPE: 398.63%\n",
            "Ljung-Box Test p-value: 0.9987\n"
          ]
        }
      ]
    },
    {
      "cell_type": "markdown",
      "source": [],
      "metadata": {
        "id": "SM7MyMHnrW20"
      }
    },
    {
      "cell_type": "code",
      "source": [
        "import numpy as np\n",
        "import matplotlib.pyplot as plt\n",
        "import seaborn as sns\n",
        "from statsmodels.graphics.gofplots import qqplot\n",
        "from statsmodels.graphics.tsaplots import plot_acf\n",
        "from sklearn.metrics import mean_squared_error, mean_absolute_error\n",
        "from statsmodels.stats.diagnostic import acorr_ljungbox\n",
        "\n",
        "# Asegúrate de que las predicciones estén aplanadas\n",
        "# Calcular los residuos\n",
        "residuos = y_test - y_pred_rnn\n",
        "\n",
        "# Normalizar los residuos al rango [0, 100] para ajustar la escala\n",
        "residuos_normalizados = 100 * (residuos - np.min(residuos)) / (np.max(residuos) - np.min(residuos))\n",
        "\n",
        "# Crear subgráfico para las 4 visualizaciones\n",
        "fig, axs = plt.subplots(2, 2, figsize=(14, 10))\n",
        "\n",
        "# 1. Gráfico de residuos\n",
        "axs[0, 0].plot(residuos_normalizados, color='blue')\n",
        "axs[0, 0].set_title('Standardized residual for \"y\"')\n",
        "axs[0, 0].set_xlabel('Time')\n",
        "axs[0, 0].set_ylabel('Residuals')\n",
        "axs[0, 0].set_ylim(0, 1000)  # Escala ajustada\n",
        "axs[0, 0].set_xticks(np.arange(len(residuos_normalizados)))  # Mostrar valores en el eje X\n",
        "\n",
        "# 2. Histograma y densidad estimada\n",
        "sns.histplot(residuos_normalizados, kde=True, ax=axs[0, 1], color='purple')\n",
        "axs[0, 1].set_title('Histogram plus estimated density')\n",
        "axs[0, 1].set_xlabel('Residuals')\n",
        "axs[0, 1].set_ylabel('Density')\n",
        "axs[0, 1].set_xlim(0, 30)  # Escala ajustada\n",
        "axs[0, 1].set_xticks(np.linspace(0, 30, 11))  # Aumentar la cantidad de valores en el eje X\n",
        "\n",
        "# 3. Q-Q plot\n",
        "qqplot(residuos_normalizados, line='45', ax=axs[1, 0])\n",
        "axs[1, 0].set_title('Normal Q-Q')\n",
        "\n",
        "# 4. Correlogram (gráfico de autocorrelación de residuos)\n",
        "plot_acf(residuos_normalizados, lags=10, ax=axs[1, 1])  # Número de lags ajustable\n",
        "axs[1, 1].set_title('Correlogram')\n",
        "axs[1, 1].set_ylim(-0.5, 0.5)  # Rango de autocorrelación ajustado\n",
        "\n",
        "# Mostrar todos los gráficos\n",
        "plt.tight_layout()\n",
        "plt.show()\n",
        "\n",
        "# Evaluación de métricas (se asume que estas métricas ya fueron calculadas)\n",
        "print(\"Evaluación RNN:\")\n",
        "print(f'MSE: {mse_rnn}')\n",
        "print(f'RMSE: {rmse_rnn}')\n",
        "print(f'MAE: {mae_rnn}')\n",
        "print(f'MAPE: {mape_rnn:.2f}%')\n",
        "print(f'Ljung-Box Test p-value: {p_value_ljung_box:.4f}')\n"
      ],
      "metadata": {
        "colab": {
          "base_uri": "https://localhost:8080/",
          "height": 1000
        },
        "id": "L7F8Lquu5kkp",
        "outputId": "6a616dad-bee9-4f3b-d9a2-66187249e933"
      },
      "execution_count": null,
      "outputs": [
        {
          "output_type": "display_data",
          "data": {
            "text/plain": [
              "<Figure size 1400x1000 with 4 Axes>"
            ],
            "image/png": "[encoded data removed]"
          },
          "metadata": {}
        },
        {
          "output_type": "stream",
          "name": "stdout",
          "text": [
            "Evaluación RNN:\n",
            "MSE: 4557.58984375\n",
            "RMSE: 67.50992403898852\n",
            "MAE: 11.829421043395996\n",
            "MAPE: 398.63%\n",
            "Ljung-Box Test p-value: 0.9987\n"
          ]
        }
      ]
    }
  ],
  "metadata": {
    "colab": {
      "provenance": [],
      "include_colab_link": true
    },
    "kernelspec": {
      "display_name": "ml_venv",
      "language": "python",
      "name": "python3"
    },
    "language_info": {
      "codemirror_mode": {
        "name": "ipython",
        "version": 3
      },
      "file_extension": ".py",
      "mimetype": "text/x-python",
      "name": "python",
      "nbconvert_exporter": "python",
      "pygments_lexer": "ipython3",
      "version": "3.9.19"
    }
  },
  "nbformat": 4,
  "nbformat_minor": 0
}